{
 "cells": [
  {
   "cell_type": "markdown",
   "metadata": {},
   "source": [
    "__Pytorch basics__"
   ]
  },
  {
   "cell_type": "code",
   "execution_count": 6,
   "metadata": {},
   "outputs": [],
   "source": [
    "# *** PYTORCH *** \n",
    "# replacement for numpy to use to power GPU \n",
    "# deep learning research platform that provides maximum flexibility and speed\n",
    "import torch "
   ]
  },
  {
   "cell_type": "code",
   "execution_count": 7,
   "metadata": {},
   "outputs": [
    {
     "name": "stdout",
     "output_type": "stream",
     "text": [
      "tensor([[ 1.8575e+20,  4.5827e-41,  1.8575e+20],\n",
      "        [ 4.5827e-41,  0.0000e+00,  4.5827e-41],\n",
      "        [ 2.9855e+16,  4.5827e-41,  6.2541e+17],\n",
      "        [ 4.5827e-41,  1.4013e-45,  4.5827e-41],\n",
      "        [ 0.0000e+00,  0.0000e+00, -5.6858e-37]])\n"
     ]
    }
   ],
   "source": [
    "# tensor == Numpy ndarray \n",
    "x = torch.empty(5,3) # creating uninitialized tensor  \n",
    "print(x)"
   ]
  },
  {
   "cell_type": "code",
   "execution_count": 9,
   "metadata": {},
   "outputs": [
    {
     "name": "stdout",
     "output_type": "stream",
     "text": [
      "tensor([[0.3076, 0.2829, 0.1623],\n",
      "        [0.6534, 0.5152, 0.7364],\n",
      "        [0.4343, 0.7091, 0.3478],\n",
      "        [0.9871, 0.2871, 0.8003],\n",
      "        [0.8393, 0.4275, 0.8071]])\n"
     ]
    }
   ],
   "source": [
    "x = torch.rand(5,3) # random tensor \n",
    "print(x)"
   ]
  },
  {
   "cell_type": "code",
   "execution_count": 11,
   "metadata": {},
   "outputs": [
    {
     "name": "stdout",
     "output_type": "stream",
     "text": [
      "tensor([[0, 0, 0],\n",
      "        [0, 0, 0],\n",
      "        [0, 0, 0],\n",
      "        [0, 0, 0],\n",
      "        [0, 0, 0]])\n"
     ]
    }
   ],
   "source": [
    "x = torch.zeros(5,3, dtype=torch.long) # tensor with zero and datatype long\n",
    "print(x)"
   ]
  },
  {
   "cell_type": "code",
   "execution_count": 12,
   "metadata": {},
   "outputs": [
    {
     "name": "stdout",
     "output_type": "stream",
     "text": [
      "tensor([5.5000, 3.0000])\n"
     ]
    }
   ],
   "source": [
    "x = torch.tensor([5.5,3]) # create tensor from data \n",
    "print(x)"
   ]
  },
  {
   "cell_type": "code",
   "execution_count": 13,
   "metadata": {},
   "outputs": [
    {
     "name": "stdout",
     "output_type": "stream",
     "text": [
      "tensor([[1., 1., 1.],\n",
      "        [1., 1., 1.],\n",
      "        [1., 1., 1.],\n",
      "        [1., 1., 1.],\n",
      "        [1., 1., 1.]], dtype=torch.float64)\n"
     ]
    }
   ],
   "source": [
    "# if we create tensor from existing tensor, those will reuse properties of previous tensor unless we specify it.\n",
    "x = x.new_ones(5,3,dtype=torch.double)\n",
    "print(x)"
   ]
  },
  {
   "cell_type": "code",
   "execution_count": 15,
   "metadata": {},
   "outputs": [
    {
     "name": "stdout",
     "output_type": "stream",
     "text": [
      "tensor([[ 0.7555, -1.1599,  1.1200],\n",
      "        [-0.1467, -0.0316, -0.1302],\n",
      "        [-0.6633,  0.7182, -0.1888],\n",
      "        [-0.7062,  1.4989,  0.3799],\n",
      "        [ 0.5235,  0.4764, -0.3301]])\n"
     ]
    }
   ],
   "source": [
    "x = torch.randn_like(x,dtype=torch.float) # overriding dtype\n",
    "print(x)"
   ]
  },
  {
   "cell_type": "code",
   "execution_count": 16,
   "metadata": {},
   "outputs": [
    {
     "name": "stdout",
     "output_type": "stream",
     "text": [
      "torch.Size([5, 3])\n"
     ]
    }
   ],
   "source": [
    "print(x.size()) # torch.size is tuple so it can support all tuple operations"
   ]
  },
  {
   "cell_type": "code",
   "execution_count": 20,
   "metadata": {},
   "outputs": [
    {
     "name": "stdout",
     "output_type": "stream",
     "text": [
      "tensor([[ 1.2537, -0.2999,  1.4197],\n",
      "        [ 0.2697,  0.0628,  0.0345],\n",
      "        [-0.3405,  1.0015,  0.4198],\n",
      "        [-0.1880,  2.1193,  1.3680],\n",
      "        [ 0.6051,  1.3132, -0.2442]])\n",
      "tensor([[ 1.2537, -0.2999,  1.4197],\n",
      "        [ 0.2697,  0.0628,  0.0345],\n",
      "        [-0.3405,  1.0015,  0.4198],\n",
      "        [-0.1880,  2.1193,  1.3680],\n",
      "        [ 0.6051,  1.3132, -0.2442]])\n",
      "tensor([[ 1.2537, -0.2999,  1.4197],\n",
      "        [ 0.2697,  0.0628,  0.0345],\n",
      "        [-0.3405,  1.0015,  0.4198],\n",
      "        [-0.1880,  2.1193,  1.3680],\n",
      "        [ 0.6051,  1.3132, -0.2442]])\n"
     ]
    }
   ],
   "source": [
    "# operations \n",
    "y = torch.rand(5,3)\n",
    "# print(x)\n",
    "# print(y)\n",
    "print(x + y) # adding \n",
    "print(torch.add(x,y)) # adding syntax 2 \n",
    "result = torch.empty(5,3) # uninitialized tensor \n",
    "torch.add(x,y,out=result) # giving result tensor for result \n",
    "print(result)"
   ]
  },
  {
   "cell_type": "code",
   "execution_count": 21,
   "metadata": {},
   "outputs": [
    {
     "name": "stdout",
     "output_type": "stream",
     "text": [
      "tensor([[ 1.2537, -0.2999,  1.4197],\n",
      "        [ 0.2697,  0.0628,  0.0345],\n",
      "        [-0.3405,  1.0015,  0.4198],\n",
      "        [-0.1880,  2.1193,  1.3680],\n",
      "        [ 0.6051,  1.3132, -0.2442]])\n"
     ]
    }
   ],
   "source": [
    "y.add_(x) # adds x to y and updates y with result \n",
    "print(y)\n",
    "# all the operations which has post-fixed _ will mutate the tensor "
   ]
  },
  {
   "cell_type": "code",
   "execution_count": 23,
   "metadata": {},
   "outputs": [
    {
     "name": "stdout",
     "output_type": "stream",
     "text": [
      "tensor([[ 0.7555, -1.1599,  1.1200],\n",
      "        [-0.1467, -0.0316, -0.1302],\n",
      "        [-0.6633,  0.7182, -0.1888],\n",
      "        [-0.7062,  1.4989,  0.3799],\n",
      "        [ 0.5235,  0.4764, -0.3301]])\n",
      "tensor([-1.1599, -0.0316,  0.7182,  1.4989,  0.4764])\n"
     ]
    }
   ],
   "source": [
    "# standard numpy indexing would work \n",
    "print(x)\n",
    "print(x[:,1]) # second column "
   ]
  },
  {
   "cell_type": "code",
   "execution_count": 25,
   "metadata": {},
   "outputs": [
    {
     "name": "stdout",
     "output_type": "stream",
     "text": [
      "torch.Size([4, 4]) torch.Size([16]) torch.Size([2, 8]) torch.Size([8, 2])\n"
     ]
    }
   ],
   "source": [
    "# resizing or reshape tensor \n",
    "x = torch.randn(4,4)\n",
    "y = x.view(16)\n",
    "z = x.view(2,8)\n",
    "k = x.view(8,2)\n",
    "print(x.size(), y.size(), z.size(), k.size())"
   ]
  },
  {
   "cell_type": "code",
   "execution_count": 28,
   "metadata": {},
   "outputs": [
    {
     "name": "stdout",
     "output_type": "stream",
     "text": [
      "tensor([[-1.3787,  0.3541,  1.8292, -2.3544],\n",
      "        [-0.4944,  0.4232,  0.0333, -1.3215],\n",
      "        [-1.4336, -0.3259, -1.4277, -1.7809],\n",
      "        [-1.3686, -0.2238,  1.5356,  0.9251]])\n",
      "tensor([-1.3787,  0.3541,  1.8292, -2.3544, -0.4944,  0.4232,  0.0333, -1.3215,\n",
      "        -1.4336, -0.3259, -1.4277, -1.7809, -1.3686, -0.2238,  1.5356,  0.9251])\n"
     ]
    }
   ],
   "source": [
    "print(x)\n",
    "print(y)"
   ]
  },
  {
   "cell_type": "code",
   "execution_count": 29,
   "metadata": {},
   "outputs": [
    {
     "name": "stdout",
     "output_type": "stream",
     "text": [
      "tensor([[-1.3787,  0.3541,  1.8292, -2.3544, -0.4944,  0.4232,  0.0333, -1.3215],\n",
      "        [-1.4336, -0.3259, -1.4277, -1.7809, -1.3686, -0.2238,  1.5356,  0.9251]])\n",
      "tensor([[-1.3787,  0.3541],\n",
      "        [ 1.8292, -2.3544],\n",
      "        [-0.4944,  0.4232],\n",
      "        [ 0.0333, -1.3215],\n",
      "        [-1.4336, -0.3259],\n",
      "        [-1.4277, -1.7809],\n",
      "        [-1.3686, -0.2238],\n",
      "        [ 1.5356,  0.9251]])\n"
     ]
    }
   ],
   "source": [
    "print(z)\n",
    "print(k)"
   ]
  },
  {
   "cell_type": "code",
   "execution_count": 30,
   "metadata": {},
   "outputs": [
    {
     "name": "stdout",
     "output_type": "stream",
     "text": [
      "tensor([0.8543])\n",
      "0.8542513251304626\n"
     ]
    }
   ],
   "source": [
    "# if we have one element tensor, use .item() to get value as python number\n",
    "x = torch.randn(1)\n",
    "print(x)\n",
    "print(x.item()) # numpy number "
   ]
  },
  {
   "cell_type": "code",
   "execution_count": 31,
   "metadata": {},
   "outputs": [
    {
     "name": "stdout",
     "output_type": "stream",
     "text": [
      "tensor([1., 1., 1., 1., 1.])\n"
     ]
    }
   ],
   "source": [
    "# TENSOR --> NUMPY \n",
    "a = torch.ones(5)\n",
    "print(a)"
   ]
  },
  {
   "cell_type": "code",
   "execution_count": 32,
   "metadata": {},
   "outputs": [
    {
     "name": "stdout",
     "output_type": "stream",
     "text": [
      "[1. 1. 1. 1. 1.]\n"
     ]
    }
   ],
   "source": [
    "b = a.numpy()\n",
    "print(b)"
   ]
  },
  {
   "cell_type": "code",
   "execution_count": 33,
   "metadata": {},
   "outputs": [
    {
     "name": "stdout",
     "output_type": "stream",
     "text": [
      "tensor([2., 2., 2., 2., 2.])\n"
     ]
    }
   ],
   "source": [
    "a.add_(1) # numpy array will change as well \n",
    "print(a)"
   ]
  },
  {
   "cell_type": "code",
   "execution_count": 35,
   "metadata": {},
   "outputs": [
    {
     "name": "stdout",
     "output_type": "stream",
     "text": [
      "[2. 2. 2. 2. 2.]\n"
     ]
    }
   ],
   "source": [
    "print(b)"
   ]
  },
  {
   "cell_type": "code",
   "execution_count": 39,
   "metadata": {},
   "outputs": [
    {
     "name": "stdout",
     "output_type": "stream",
     "text": [
      "[2. 2. 2. 2. 2.]\n",
      "tensor([2., 2., 2., 2., 2.], dtype=torch.float64)\n"
     ]
    }
   ],
   "source": [
    "# NUMPY ARRAY --> TENSOR \n",
    "import numpy as np \n",
    "a = np.ones(5)\n",
    "b = torch.from_numpy(a)\n",
    "np.add(a,1,out=a)\n",
    "print(a)\n",
    "print(b)"
   ]
  },
  {
   "cell_type": "code",
   "execution_count": 42,
   "metadata": {},
   "outputs": [
    {
     "name": "stdout",
     "output_type": "stream",
     "text": [
      "tensor([1.8543], device='cuda:0')\n",
      "tensor([1.8543], dtype=torch.float64)\n"
     ]
    }
   ],
   "source": [
    "# CUDA TENSORS \n",
    "# Tensors could be moved to any device using .to method \n",
    "\n",
    "if torch.cuda.is_available(): \n",
    "    device = torch.device(\"cuda\")\n",
    "    y = torch.ones_like(x, device=device) # creating directly on GPU \n",
    "    x = x.to(device) # copying x to GPU \n",
    "    z = x + y # adding in CUDA\n",
    "    print(z) \n",
    "    print(z.to(\"cpu\", torch.double)) # moving it back to CPU "
   ]
  }
 ],
 "metadata": {
  "kernelspec": {
   "display_name": "Python 3",
   "language": "python",
   "name": "python3"
  },
  "language_info": {
   "codemirror_mode": {
    "name": "ipython",
    "version": 3
   },
   "file_extension": ".py",
   "mimetype": "text/x-python",
   "name": "python",
   "nbconvert_exporter": "python",
   "pygments_lexer": "ipython3",
   "version": "3.6.7"
  }
 },
 "nbformat": 4,
 "nbformat_minor": 2
}
